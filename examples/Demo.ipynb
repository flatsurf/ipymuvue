{
 "cells": [
  {
   "cell_type": "markdown",
   "id": "e25b47cb",
   "metadata": {},
   "source": [
    "# Basic Reactivity\n",
    "\n",
    "A left click on the title is handled by JavaScript in the frontend, a right click is handled by Python in the backend."
   ]
  },
  {
   "cell_type": "code",
   "execution_count": null,
   "id": "fb445e65",
   "metadata": {},
   "outputs": [],
   "source": [
    "from ipyvue3 import VueWidget\n",
    "from traitlets import Unicode\n",
    "\n",
    "class Widget(VueWidget):\n",
    "    def __init__(self):\n",
    "        super().__init__(template=r\"\"\"\n",
    "            <div>\n",
    "                <h1 @click=\"audience += '!'\" @click.right.prevent=\"rclick()\" style=\"border: solid 1px blue; text-align: center; padding: 20px; user-select: none\">\n",
    "                    Hello {{ audience }}!\n",
    "                </h1>\n",
    "            </div>\n",
    "        \"\"\")\n",
    "        \n",
    "    audience = Unicode(\"World\").tag(sync=True)\n",
    "    \n",
    "    @VueWidget.callback\n",
    "    def rclick(self):\n",
    "        self.audience = '¡' + self.audience\n",
    "        \n",
    "    \n",
    "widget = Widget()\n",
    "widget"
   ]
  },
  {
   "cell_type": "markdown",
   "id": "2d9e4a15",
   "metadata": {},
   "source": [
    "The state of the widget is available from Python:"
   ]
  },
  {
   "cell_type": "code",
   "execution_count": null,
   "id": "db713aec",
   "metadata": {},
   "outputs": [],
   "source": [
    "widget.audience"
   ]
  },
  {
   "cell_type": "markdown",
   "id": "179841d3",
   "metadata": {},
   "source": [
    "The state of the widget can be manipulated directly from Python:"
   ]
  },
  {
   "cell_type": "code",
   "execution_count": null,
   "id": "c89d63c8",
   "metadata": {},
   "outputs": [],
   "source": [
    "widget.audience = \"Jupyter\""
   ]
  },
  {
   "cell_type": "markdown",
   "id": "7943267b",
   "metadata": {},
   "source": [
    "# Loading Widgets from a Variety of Sources"
   ]
  },
  {
   "cell_type": "code",
   "execution_count": null,
   "id": "4d88fe86",
   "metadata": {},
   "outputs": [],
   "source": [
    "from ipyvue3 import VueWidget\n",
    "from traitlets import Unicode\n",
    "\n",
    "class Widget(VueWidget):\n",
    "    def __init__(self):\n",
    "        super().__init__(template=r\"\"\"\n",
    "            <div>\n",
    "                <h1 @click=\"audience += '!'\" @click.right.prevent=\"rclick()\">Hello {{ audience }}!</h1>\n",
    "                \n",
    "                <h2>Here are some examples of child components</h2>\n",
    "                <h3>A component loaded from a string</h3>\n",
    "                <component-from-string/>\n",
    "                \n",
    "                <h3>A component loaded from a file</h3>\n",
    "                <component-from-file/>\n",
    "                \n",
    "                <h3>A component from a string in the assets dict</h3>\n",
    "                <component-from-asset-string/>\n",
    "                \n",
    "                <h3>A component from a file in the assets dict</h3>\n",
    "                <component-from-asset-file/>\n",
    "                \n",
    "                <h3>A component whose logic is implemented in Python</h3>\n",
    "                <component-with-python-script/>\n",
    "                \n",
    "                <h3>A recursive component whose logic is implemented in Python</h3>\n",
    "                <component-recursive-with-python :depth=\"23\"/>\n",
    "                \n",
    "                <h3>A recursive component purely in Python</h3>\n",
    "                <component-recursive-in-python :depth=\"3\"/>\n",
    "            </div>\n",
    "        \"\"\", components={\n",
    "            \"component-from-string\": \"<template><div>Component from String</div></template>\",\n",
    "            \"component-from-file\": open(\"component-from-file.vue\"),\n",
    "            \"component-from-asset-string\": \"component-from-asset-string.vue\",\n",
    "            \"component-from-asset-file\":\"component-from-asset-file.vue\",\n",
    "            \"component-with-python-script\": open(\"component-with-python-script.vue\"),\n",
    "            \"component-recursive-with-python\": open(\"component-recursive-with-python.vue\"),\n",
    "            \"component-recursive-in-python\": open(\"component_recursive_in_python.py\"),\n",
    "        }, assets={\n",
    "            \"component-from-asset-string.vue\": \"<template><div>Component from an Asset String</div></template>\",\n",
    "            \"component-from-asset-file.vue\": open(\"component-from-file.vue\"),\n",
    "            \"component_with_python_script.py\": open(\"component_with_python_script.py\"),\n",
    "            \"subcomponent-with-python-script.vue\": open(\"subcomponent-with-python-script.vue\"),\n",
    "            \"subcomponent_with_python_script.py\": open(\"subcomponent_with_python_script.py\"),\n",
    "            \"subcomponent_pure_python.py\": open(\"subcomponent_pure_python.py\"),\n",
    "            \"component_recursive_with_python.py\": open(\"component_recursive_with_python.py\")\n",
    "        })\n",
    "        \n",
    "    audience = Unicode(\"World\").tag(sync=True)\n",
    "    \n",
    "    @VueWidget.callback\n",
    "    def rclick(self):\n",
    "        self.audience = '¡' + self.audience\n",
    "        \n",
    "    \n",
    "widget = Widget()\n",
    "widget"
   ]
  },
  {
   "cell_type": "code",
   "execution_count": null,
   "id": "c3833cc3",
   "metadata": {},
   "outputs": [],
   "source": [
    "widget.audience = \"Jupyter\""
   ]
  },
  {
   "cell_type": "code",
   "execution_count": null,
   "id": "4d0bbd8c",
   "metadata": {},
   "outputs": [],
   "source": [
    "widget.audience"
   ]
  }
 ],
 "metadata": {
  "kernelspec": {
   "display_name": "Python 3 (ipykernel)",
   "language": "python",
   "name": "python3"
  },
  "language_info": {
   "codemirror_mode": {
    "name": "ipython",
    "version": 3
   },
   "file_extension": ".py",
   "mimetype": "text/x-python",
   "name": "python",
   "nbconvert_exporter": "python",
   "pygments_lexer": "ipython3",
   "version": "3.10.5"
  }
 },
 "nbformat": 4,
 "nbformat_minor": 5
}
