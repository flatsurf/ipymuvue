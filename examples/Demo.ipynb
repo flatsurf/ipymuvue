{
 "cells": [
  {
   "cell_type": "markdown",
   "id": "7ab5266f",
   "metadata": {},
   "source": [
    "# Basic Reactivity\n",
    "\n",
    "A left click on the title is handled by JavaScript in the frontend, a right click is handled by Python in the backend."
   ]
  },
  {
   "cell_type": "code",
   "execution_count": null,
   "id": "14925952",
   "metadata": {},
   "outputs": [],
   "source": [
    "from ipyvue3 import VueWidget\n",
    "from traitlets import Unicode\n",
    "\n",
    "class Widget(VueWidget):\n",
    "    def __init__(self):\n",
    "        super().__init__(template=r\"\"\"\n",
    "            <div>\n",
    "                <h1 @click=\"audience += '!'\" @click.right.prevent=\"rclick()\" style=\"border: solid 1px blue; text-align: center; padding: 20px; user-select: none\">\n",
    "                    Hello {{ audience }}!\n",
    "                </h1>\n",
    "            </div>\n",
    "        \"\"\")\n",
    "        \n",
    "    audience = Unicode(\"World\").tag(sync=True)\n",
    "    \n",
    "    @VueWidget.callback\n",
    "    def rclick(self):\n",
    "        self.audience = '¡' + self.audience\n",
    "        \n",
    "    \n",
    "widget = Widget()\n",
    "widget"
   ]
  },
  {
   "cell_type": "markdown",
   "id": "fa2d69dc",
   "metadata": {},
   "source": [
    "The state of the widget is available from Python:"
   ]
  },
  {
   "cell_type": "code",
   "execution_count": null,
   "id": "95b21981",
   "metadata": {},
   "outputs": [],
   "source": [
    "widget.audience"
   ]
  },
  {
   "cell_type": "markdown",
   "id": "83662d57",
   "metadata": {},
   "source": [
    "The state of the widget can be manipulated directly from Python:"
   ]
  },
  {
   "cell_type": "code",
   "execution_count": null,
   "id": "7566ebd7",
   "metadata": {},
   "outputs": [],
   "source": [
    "widget.audience = \"Jupyter\""
   ]
  },
  {
   "cell_type": "markdown",
   "id": "148f7f1c",
   "metadata": {},
   "source": [
    "# Subcomponents\n",
    "\n",
    "Subcomponents can be implemented in JavaScript or in Python in a variety of ways."
   ]
  },
  {
   "cell_type": "code",
   "execution_count": null,
   "id": "4d88fe86",
   "metadata": {},
   "outputs": [],
   "source": [
    "from ipyvue3 import VueWidget\n",
    "from traitlets import Unicode\n",
    "\n",
    "class Widget(VueWidget):\n",
    "    def __init__(self):\n",
    "        super().__init__(template=r\"\"\"\n",
    "            <div>\n",
    "                <h3>A component loaded from a string</h3>\n",
    "                <component-from-string/>\n",
    "                \n",
    "                <h3>A component loaded from a file</h3>\n",
    "                <component-from-file/>\n",
    "                \n",
    "                <h3>A component from a string in the assets dict</h3>\n",
    "                <component-from-asset-string/>\n",
    "                \n",
    "                <h3>A component from a file in the assets dict</h3>\n",
    "                <component-from-asset-file/>\n",
    "                \n",
    "                <h3>A component whose logic is implemented in Python</h3>\n",
    "                <component-with-python-script/>\n",
    "                \n",
    "                <h3>A recursive component whose logic is implemented in Python</h3>\n",
    "                <component-recursive-with-python :depth=\"23\"/>\n",
    "                \n",
    "                <h3>A recursive component purely in Python</h3>\n",
    "                <component-recursive-in-python :depth=\"3\"/>\n",
    "            </div>\n",
    "        \"\"\", components={\n",
    "            \"component-from-string\": \"<template><div>Component from String</div></template>\",\n",
    "            \"component-from-file\": open(\"component-from-file.vue\"),\n",
    "            \"component-from-asset-string\": \"component-from-asset-string.vue\",\n",
    "            \"component-from-asset-file\":\"component-from-asset-file.vue\",\n",
    "            \"component-with-python-script\": open(\"component-with-python-script.vue\"),\n",
    "            \"component-recursive-with-python\": open(\"component-recursive-with-python.vue\"),\n",
    "            \"component-recursive-in-python\": open(\"component_recursive_in_python.py\"),\n",
    "        }, assets={\n",
    "            \"component-from-asset-string.vue\": \"<template><div>Component from an Asset String</div></template>\",\n",
    "            \"component-from-asset-file.vue\": open(\"component-from-file.vue\"),\n",
    "            \"component_with_python_script.py\": open(\"component_with_python_script.py\"),\n",
    "            \"subcomponent-with-python-script.vue\": open(\"subcomponent-with-python-script.vue\"),\n",
    "            \"subcomponent_with_python_script.py\": open(\"subcomponent_with_python_script.py\"),\n",
    "            \"subcomponent_pure_python.py\": open(\"subcomponent_pure_python.py\"),\n",
    "            \"component_recursive_with_python.py\": open(\"component_recursive_with_python.py\")\n",
    "        })\n",
    "        \n",
    "    \n",
    "widget = Widget()\n",
    "widget"
   ]
  },
  {
   "cell_type": "markdown",
   "id": "c0cbacf2",
   "metadata": {},
   "source": [
    "# Importing Remote Subcomponents\n",
    "Note that such components (like anything that's happening in the Jupyter notebook frontend) can run arbitrary code in the notebook, therefore have full access to the kernel, i.e., Python, on your local system. Please only load remote code that you trust."
   ]
  },
  {
   "cell_type": "code",
   "execution_count": null,
   "id": "1a5be5df",
   "metadata": {},
   "outputs": [],
   "source": [
    "from ipyvue3 import VueWidget\n",
    "from traitlets import Dict\n",
    "\n",
    "class Widget(VueWidget):\n",
    "    def __init__(self):\n",
    "        super().__init__(template=r\"\"\"\n",
    "            <div>\n",
    "                <remote-network-graph :nodes=\"nodes\" :edges=\"edges\" />\n",
    "            </div>\n",
    "        \"\"\", components={\n",
    "            \"remote-network-graph\": open(\"remote-network-graph.vue\"),\n",
    "        })\n",
    "        \n",
    "    nodes = Dict({\n",
    "        \"A\": { \"name\": \"A\"},\n",
    "        \"B\": { \"name\": \"B\"},\n",
    "        \"C\": { \"name\": \"C\"},\n",
    "        \"D\": { \"name\": \"D\"},\n",
    "    }).tag(sync=True)\n",
    "    \n",
    "    edges = Dict({\n",
    "        \"AB\": { \"source\": \"A\", \"target\": \"B\"},\n",
    "        \"BC\": { \"source\": \"B\", \"target\": \"C\"},\n",
    "        \"CD\": { \"source\": \"C\", \"target\": \"D\"},\n",
    "    }).tag(sync=True)\n",
    "    \n",
    "widget = Widget()\n",
    "widget"
   ]
  }
 ],
 "metadata": {
  "kernelspec": {
   "display_name": "Python 3 (ipykernel)",
   "language": "python",
   "name": "python3"
  },
  "language_info": {
   "codemirror_mode": {
    "name": "ipython",
    "version": 3
   },
   "file_extension": ".py",
   "mimetype": "text/x-python",
   "name": "python",
   "nbconvert_exporter": "python",
   "pygments_lexer": "ipython3",
   "version": "3.10.5"
  }
 },
 "nbformat": 4,
 "nbformat_minor": 5
}
